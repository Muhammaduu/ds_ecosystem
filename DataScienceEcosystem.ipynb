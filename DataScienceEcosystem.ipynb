{
 "cells": [
  {
   "cell_type": "markdown",
   "id": "bddb0b90",
   "metadata": {},
   "source": [
    "# Data Science Tools and Ecosystem"
   ]
  },
  {
   "cell_type": "markdown",
   "id": "df2a3980",
   "metadata": {},
   "source": [
    "In this notebook, Data Science Tools and Ecosystem are summarized."
   ]
  },
  {
   "cell_type": "markdown",
   "id": "9e37ff82",
   "metadata": {},
   "source": [
    "**Objective**\n",
    "* Machine learning and data mining.\n",
    "* Efficient numerical computations.\n",
    "* Handling arrays and matrices.\n",
    "* Performing mathematical operations.\n",
    "* Interactive data exploration and analysis.\n",
    "* Supporting multiple languages and data sources.\n",
    "* Collaborative development and sharing of data insights."
   ]
  },
  {
   "cell_type": "markdown",
   "id": "e0fb7678",
   "metadata": {},
   "source": [
    "Some of the popular languages that Data Scientists use are:\n",
    "1) R programming \n",
    "2) Python \n",
    "3) SQL\n",
    "4) Julia"
   ]
  },
  {
   "cell_type": "markdown",
   "id": "f3883468",
   "metadata": {},
   "source": [
    "Some of the commonly used libraries used by Data Scientists include:\n",
    "1) Python has the following libraries\n",
    "a) numpy\n",
    "b) pandas\n",
    "c) seaborn\n",
    "d) sickit-learn\n",
    "2) R programming has the libraries\n",
    "a) ggplot2\n",
    "b) tidyr\n",
    "c) dplyr"
   ]
  },
  {
   "cell_type": "markdown",
   "id": "41992cb6",
   "metadata": {},
   "source": [
    "| Data Science Tools | \n",
    "|----------|\n",
    "| Jupyter notebook | \n",
    "| RStudio | \n",
    "| Apache Zeppelin| \n"
   ]
  },
  {
   "cell_type": "markdown",
   "id": "7d3bcc85",
   "metadata": {},
   "source": [
    "introducing arithmetic expression examples"
   ]
  },
  {
   "cell_type": "markdown",
   "id": "e81ea283",
   "metadata": {},
   "source": [
    "Below are a few examples of evaluating arithmetic expressions in Python"
   ]
  },
  {
   "cell_type": "code",
   "execution_count": 1,
   "id": "68dc6993",
   "metadata": {},
   "outputs": [
    {
     "data": {
      "text/plain": [
       "32"
      ]
     },
     "execution_count": 1,
     "metadata": {},
     "output_type": "execute_result"
    }
   ],
   "source": [
    "# This a simple arithmetic expression to mutiply then add integers\n",
    "# I used my own example \n",
    "(5*5)+7"
   ]
  },
  {
   "cell_type": "code",
   "execution_count": 2,
   "id": "bf65ff26",
   "metadata": {},
   "outputs": [
    {
     "name": "stdout",
     "output_type": "stream",
     "text": [
      "3.3333333333333335\n"
     ]
    }
   ],
   "source": [
    "#This will convert 200 minutes to hours by diving by 60\n",
    "# one hour is 60 minutes therefore we divide 200/60\n",
    "\n",
    "minutes=200\n",
    "hours= minutes/60 # converting hourses to minutes\n",
    "\n",
    "# print results in hours\n",
    "print(hours)\n"
   ]
  },
  {
   "cell_type": "markdown",
   "id": "97693e2a",
   "metadata": {},
   "source": [
    "## Author\n",
    "M.ABdirisak.A"
   ]
  },
  {
   "cell_type": "code",
   "execution_count": null,
   "id": "1a848b72",
   "metadata": {},
   "outputs": [],
   "source": []
  }
 ],
 "metadata": {
  "celltoolbar": "Raw Cell Format",
  "kernelspec": {
   "display_name": "Python 3 (ipykernel)",
   "language": "python",
   "name": "python3"
  },
  "language_info": {
   "codemirror_mode": {
    "name": "ipython",
    "version": 3
   },
   "file_extension": ".py",
   "mimetype": "text/x-python",
   "name": "python",
   "nbconvert_exporter": "python",
   "pygments_lexer": "ipython3",
   "version": "3.11.5"
  }
 },
 "nbformat": 4,
 "nbformat_minor": 5
}
